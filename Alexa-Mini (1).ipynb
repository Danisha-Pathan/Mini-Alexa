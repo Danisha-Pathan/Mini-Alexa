{
 "cells": [
  {
   "cell_type": "code",
   "execution_count": 1,
   "metadata": {},
   "outputs": [
    {
     "name": "stdout",
     "output_type": "stream",
     "text": [
      "Collecting SpeechRecognition\n",
      "  Downloading SpeechRecognition-3.8.1-py2.py3-none-any.whl (32.8 MB)\n",
      "Installing collected packages: SpeechRecognition\n",
      "Successfully installed SpeechRecognition-3.8.1\n",
      "Note: you may need to restart the kernel to use updated packages.\n"
     ]
    }
   ],
   "source": [
    "pip install SpeechRecognition"
   ]
  },
  {
   "cell_type": "code",
   "execution_count": 2,
   "metadata": {},
   "outputs": [
    {
     "name": "stdout",
     "output_type": "stream",
     "text": [
      "Collecting pyttsx3\n",
      "  Downloading pyttsx3-2.90-py3-none-any.whl (39 kB)\n",
      "Requirement already satisfied: comtypes; platform_system == \"Windows\" in c:\\users\\danisa\\anaconda3\\lib\\site-packages (from pyttsx3) (1.1.7)\n",
      "Collecting pypiwin32; platform_system == \"Windows\"\n",
      "  Downloading pypiwin32-223-py3-none-any.whl (1.7 kB)\n",
      "Requirement already satisfied: pywin32; platform_system == \"Windows\" in c:\\users\\danisa\\anaconda3\\lib\\site-packages (from pyttsx3) (227)\n",
      "Installing collected packages: pypiwin32, pyttsx3\n",
      "Successfully installed pypiwin32-223 pyttsx3-2.90\n",
      "Note: you may need to restart the kernel to use updated packages.\n"
     ]
    }
   ],
   "source": [
    "pip install pyttsx3"
   ]
  },
  {
   "cell_type": "code",
   "execution_count": 3,
   "metadata": {},
   "outputs": [
    {
     "name": "stdout",
     "output_type": "stream",
     "text": [
      "Collecting package metadata (current_repodata.json): ...working... done\n",
      "Solving environment: ...working... done\n",
      "\n",
      "## Package Plan ##\n",
      "\n",
      "  environment location: C:\\Users\\DANISA\\anaconda3\n",
      "\n",
      "  added / updated specs:\n",
      "    - pyaudio\n",
      "\n",
      "\n",
      "The following packages will be downloaded:\n",
      "\n",
      "    package                    |            build\n",
      "    ---------------------------|-----------------\n",
      "    certifi-2020.6.20          |     pyhd3eb1b0_3         159 KB  anaconda\n",
      "    conda-4.12.0               |   py38haa95532_0        16.9 MB  anaconda\n",
      "    portaudio-19.6.0           |       he774522_4         240 KB  anaconda\n",
      "    pyaudio-0.2.11             |   py38he774522_2         189 KB  anaconda\n",
      "    ------------------------------------------------------------\n",
      "                                           Total:        17.5 MB\n",
      "\n",
      "The following NEW packages will be INSTALLED:\n",
      "\n",
      "  portaudio          anaconda/win-64::portaudio-19.6.0-he774522_4\n",
      "  pyaudio            anaconda/win-64::pyaudio-0.2.11-py38he774522_2\n",
      "\n",
      "The following packages will be UPDATED:\n",
      "\n",
      "  conda               pkgs/main::conda-4.9.2-py38haa95532_0 --> anaconda::conda-4.12.0-py38haa95532_0\n",
      "\n",
      "The following packages will be SUPERSEDED by a higher-priority channel:\n",
      "\n",
      "  certifi                                         pkgs/main --> anaconda\n",
      "\n",
      "\n",
      "\n",
      "Downloading and Extracting Packages\n",
      "\n",
      "conda-4.12.0         | 16.9 MB   |            |   0% \n",
      "conda-4.12.0         | 16.9 MB   |            |   0% \n",
      "conda-4.12.0         | 16.9 MB   | 3          |   3% \n",
      "conda-4.12.0         | 16.9 MB   | 8          |   8% \n",
      "conda-4.12.0         | 16.9 MB   | #1         |  12% \n",
      "conda-4.12.0         | 16.9 MB   | #4         |  14% \n",
      "conda-4.12.0         | 16.9 MB   | #7         |  17% \n",
      "conda-4.12.0         | 16.9 MB   | ##5        |  25% \n",
      "conda-4.12.0         | 16.9 MB   | ##9        |  29% \n",
      "conda-4.12.0         | 16.9 MB   | ###3       |  34% \n",
      "conda-4.12.0         | 16.9 MB   | ###7       |  38% \n",
      "conda-4.12.0         | 16.9 MB   | ####2      |  42% \n",
      "conda-4.12.0         | 16.9 MB   | ####6      |  47% \n",
      "conda-4.12.0         | 16.9 MB   | #####      |  51% \n",
      "conda-4.12.0         | 16.9 MB   | #####4     |  55% \n",
      "conda-4.12.0         | 16.9 MB   | #####9     |  59% \n",
      "conda-4.12.0         | 16.9 MB   | ######5    |  65% \n",
      "conda-4.12.0         | 16.9 MB   | ######9    |  69% \n",
      "conda-4.12.0         | 16.9 MB   | #######3   |  74% \n",
      "conda-4.12.0         | 16.9 MB   | #######8   |  78% \n",
      "conda-4.12.0         | 16.9 MB   | ########2  |  82% \n",
      "conda-4.12.0         | 16.9 MB   | ########6  |  87% \n",
      "conda-4.12.0         | 16.9 MB   | #########  |  91% \n",
      "conda-4.12.0         | 16.9 MB   | #########5 |  96% \n",
      "conda-4.12.0         | 16.9 MB   | ########## | 100% \n",
      "conda-4.12.0         | 16.9 MB   | ########## | 100% \n",
      "\n",
      "certifi-2020.6.20    | 159 KB    |            |   0% \n",
      "certifi-2020.6.20    | 159 KB    | #          |  10% \n",
      "certifi-2020.6.20    | 159 KB    | ########## | 100% \n",
      "certifi-2020.6.20    | 159 KB    | ########## | 100% \n",
      "\n",
      "pyaudio-0.2.11       | 189 KB    |            |   0% \n",
      "pyaudio-0.2.11       | 189 KB    | 8          |   8% \n",
      "pyaudio-0.2.11       | 189 KB    | ########## | 100% \n",
      "pyaudio-0.2.11       | 189 KB    | ########## | 100% \n",
      "\n",
      "portaudio-19.6.0     | 240 KB    |            |   0% \n",
      "portaudio-19.6.0     | 240 KB    | 6          |   7% \n",
      "portaudio-19.6.0     | 240 KB    | ######     |  60% \n",
      "portaudio-19.6.0     | 240 KB    | ########## | 100% \n",
      "portaudio-19.6.0     | 240 KB    | ########## | 100% \n",
      "Preparing transaction: ...working... done\n",
      "Verifying transaction: ...working... done\n",
      "Executing transaction: ...working... done\n",
      "\n",
      "Note: you may need to restart the kernel to use updated packages.\n"
     ]
    },
    {
     "name": "stderr",
     "output_type": "stream",
     "text": [
      "\n",
      "\n",
      "==> WARNING: A newer version of conda exists. <==\n",
      "  current version: 4.9.2\n",
      "  latest version: 4.12.0\n",
      "\n",
      "Please update conda by running\n",
      "\n",
      "    $ conda update -n base -c defaults conda\n",
      "\n",
      "\n"
     ]
    }
   ],
   "source": [
    "conda install -c anaconda pyaudio"
   ]
  },
  {
   "cell_type": "code",
   "execution_count": null,
   "metadata": {},
   "outputs": [],
   "source": [
    "conda update -n base -c defaults conda"
   ]
  },
  {
   "cell_type": "code",
   "execution_count": 3,
   "metadata": {},
   "outputs": [
    {
     "name": "stdout",
     "output_type": "stream",
     "text": [
      "Requirement already satisfied: pywhatkit in c:\\users\\danisa\\anaconda3\\lib\\site-packages (5.3)\n",
      "Requirement already satisfied: Pillow in c:\\users\\danisa\\anaconda3\\lib\\site-packages (from pywhatkit) (8.0.1)\n",
      "Requirement already satisfied: requests in c:\\users\\danisa\\anaconda3\\lib\\site-packages (from pywhatkit) (2.24.0)\n",
      "Requirement already satisfied: pyautogui in c:\\users\\danisa\\anaconda3\\lib\\site-packages (from pywhatkit) (0.9.53)\n",
      "Requirement already satisfied: wikipedia in c:\\users\\danisa\\anaconda3\\lib\\site-packages (from pywhatkit) (1.4.0)\n",
      "Requirement already satisfied: certifi>=2017.4.17 in c:\\users\\danisa\\anaconda3\\lib\\site-packages (from requests->pywhatkit) (2020.6.20)\n",
      "Requirement already satisfied: chardet<4,>=3.0.2 in c:\\users\\danisa\\anaconda3\\lib\\site-packages (from requests->pywhatkit) (3.0.4)\n",
      "Requirement already satisfied: idna<3,>=2.5 in c:\\users\\danisa\\anaconda3\\lib\\site-packages (from requests->pywhatkit) (2.10)\n",
      "Requirement already satisfied: urllib3!=1.25.0,!=1.25.1,<1.26,>=1.21.1 in c:\\users\\danisa\\anaconda3\\lib\\site-packages (from requests->pywhatkit) (1.25.11)\n",
      "Requirement already satisfied: pygetwindow>=0.0.5 in c:\\users\\danisa\\anaconda3\\lib\\site-packages (from pyautogui->pywhatkit) (0.0.9)\n",
      "Requirement already satisfied: pyscreeze>=0.1.21 in c:\\users\\danisa\\anaconda3\\lib\\site-packages (from pyautogui->pywhatkit) (0.1.28)\n",
      "Requirement already satisfied: mouseinfo in c:\\users\\danisa\\anaconda3\\lib\\site-packages (from pyautogui->pywhatkit) (0.1.3)\n",
      "Requirement already satisfied: pymsgbox in c:\\users\\danisa\\anaconda3\\lib\\site-packages (from pyautogui->pywhatkit) (1.0.9)\n",
      "Requirement already satisfied: PyTweening>=1.0.1 in c:\\users\\danisa\\anaconda3\\lib\\site-packages (from pyautogui->pywhatkit) (1.0.4)\n",
      "Requirement already satisfied: beautifulsoup4 in c:\\users\\danisa\\anaconda3\\lib\\site-packages (from wikipedia->pywhatkit) (4.9.3)\n",
      "Requirement already satisfied: pyrect in c:\\users\\danisa\\anaconda3\\lib\\site-packages (from pygetwindow>=0.0.5->pyautogui->pywhatkit) (0.2.0)\n",
      "Requirement already satisfied: pyperclip in c:\\users\\danisa\\anaconda3\\lib\\site-packages (from mouseinfo->pyautogui->pywhatkit) (1.8.2)\n",
      "Requirement already satisfied: soupsieve>1.2; python_version >= \"3.0\" in c:\\users\\danisa\\anaconda3\\lib\\site-packages (from beautifulsoup4->wikipedia->pywhatkit) (2.0.1)\n",
      "Note: you may need to restart the kernel to use updated packages.\n"
     ]
    }
   ],
   "source": [
    "pip install pywhatkit"
   ]
  },
  {
   "cell_type": "code",
   "execution_count": 12,
   "metadata": {},
   "outputs": [
    {
     "name": "stdout",
     "output_type": "stream",
     "text": [
      "Requirement already satisfied: datetime in c:\\users\\danisa\\anaconda3\\lib\\site-packages (4.4)\n",
      "Requirement already satisfied: pytz in c:\\users\\danisa\\anaconda3\\lib\\site-packages (from datetime) (2020.1)\n",
      "Requirement already satisfied: zope.interface in c:\\users\\danisa\\anaconda3\\lib\\site-packages (from datetime) (5.1.2)\n",
      "Requirement already satisfied: setuptools in c:\\users\\danisa\\anaconda3\\lib\\site-packages (from zope.interface->datetime) (50.3.1.post20201107)\n",
      "Note: you may need to restart the kernel to use updated packages.\n"
     ]
    }
   ],
   "source": [
    "pip install datetime"
   ]
  },
  {
   "cell_type": "code",
   "execution_count": 13,
   "metadata": {},
   "outputs": [
    {
     "name": "stdout",
     "output_type": "stream",
     "text": [
      "Requirement already satisfied: wikipedia in c:\\users\\danisa\\anaconda3\\lib\\site-packages (1.4.0)\n",
      "Requirement already satisfied: requests<3.0.0,>=2.0.0 in c:\\users\\danisa\\anaconda3\\lib\\site-packages (from wikipedia) (2.24.0)\n",
      "Requirement already satisfied: beautifulsoup4 in c:\\users\\danisa\\anaconda3\\lib\\site-packages (from wikipedia) (4.9.3)\n",
      "Requirement already satisfied: chardet<4,>=3.0.2 in c:\\users\\danisa\\anaconda3\\lib\\site-packages (from requests<3.0.0,>=2.0.0->wikipedia) (3.0.4)\n",
      "Requirement already satisfied: certifi>=2017.4.17 in c:\\users\\danisa\\anaconda3\\lib\\site-packages (from requests<3.0.0,>=2.0.0->wikipedia) (2020.6.20)\n",
      "Requirement already satisfied: urllib3!=1.25.0,!=1.25.1,<1.26,>=1.21.1 in c:\\users\\danisa\\anaconda3\\lib\\site-packages (from requests<3.0.0,>=2.0.0->wikipedia) (1.25.11)\n",
      "Requirement already satisfied: idna<3,>=2.5 in c:\\users\\danisa\\anaconda3\\lib\\site-packages (from requests<3.0.0,>=2.0.0->wikipedia) (2.10)\n",
      "Requirement already satisfied: soupsieve>1.2; python_version >= \"3.0\" in c:\\users\\danisa\\anaconda3\\lib\\site-packages (from beautifulsoup4->wikipedia) (2.0.1)\n",
      "Note: you may need to restart the kernel to use updated packages.\n"
     ]
    }
   ],
   "source": [
    "pip install wikipedia"
   ]
  },
  {
   "cell_type": "code",
   "execution_count": 23,
   "metadata": {},
   "outputs": [
    {
     "name": "stdout",
     "output_type": "stream",
     "text": [
      "Requirement already satisfied: pyjokes in c:\\users\\danisa\\anaconda3\\lib\\site-packages (0.6.0)\n",
      "Note: you may need to restart the kernel to use updated packages.\n"
     ]
    }
   ],
   "source": [
    "pip install pyjokes"
   ]
  },
  {
   "cell_type": "code",
   "execution_count": null,
   "metadata": {},
   "outputs": [],
   "source": [
    "import speech_recognition as sr\n",
    "import pyttsx3\n",
    "import datetime\n",
    "import pywhatkit\n",
    "import wikipedia\n",
    "listener = sr.Recognizer()\n",
    "alexa = pyttsx3.init()\n",
    "\n",
    "voices = alexa.getProperty('voices')\n",
    "alexa.setProperty('voice', voices[0].id)\n",
    "\n",
    "def talk(text):\n",
    "    alexa.say(text)\n",
    "    alexa.runAndWait()\n",
    "\n",
    "\n",
    "def run_alexa():\n",
    "    with sr.Microphone() as source:\n",
    "        recognizer.adjust_for_ambient_noise(source,duration=1)\n",
    "        print('\\n')\n",
    "        print(\"Start Speaking!\")\n",
    "        engine_talk('listening.. ')\n",
    "        recordedaudio=recognizer.listen(source)\n",
    "        try:\n",
    "            command=recognizer.recognize_google(recordedaudio,language='en-in')\n",
    "            command = command.lower()\n",
    "            if 'time' in command:\n",
    "                    time = datetime.datetime.now().strftime('%I:%M %p')\n",
    "                    print('Current time is ' + time)\n",
    "                    talk('Current time is ' + time) \n",
    "            elif 'play a song' in command:\n",
    "                    song = command.replace('play', '')\n",
    "                    talk('playing ' + song)\n",
    "                    pywhatkit.playonyt(song)\n",
    "            elif 'tell me about' in command:\n",
    "                     wiki = command.replace('tell me about', '')\n",
    "                     info = wikipedia.summary(wiki, 2)\n",
    "                     print(info)\n",
    "                     talk(info)\n",
    "            elif 'who are you' in command :\n",
    "                     print('I am mini alexa a k a your virtual assistant master')\n",
    "                     engine_talk('I am mini alexa a k a your virtual assistant master. how can i help you ?')\n",
    "\n",
    "            elif 'can you do' in command :\n",
    "                print('''I can play songs on youtube , tell you a joke, search on wikipedia, tell date and time,open different \n",
    "                websites like instagram, youtube,gmail, git hub, stack overflow and searches on google.How can I help you ?''')\n",
    "                engine_talk('''i can play songs on youtube , tell you a joke, search on wikipedia, tell date and time,open different\n",
    "                websites like insta gram, youtube,gmail, git hub, stack overflow and searches on google. How can I help you ?''')\n",
    "\n",
    "\n",
    "            elif 'date and time' in command :\n",
    "                        today = date.today()                \n",
    "                        time = datetime.datetime.now().strftime('%I:%M %p')\n",
    "                        # Textual month, day and year\n",
    "                        d2 = today.strftime(\"%B %d, %Y\")\n",
    "                        print(\"Today's Date is \", d2, 'Current time is', time)\n",
    "                        engine_talk('Today is : '+ d2)\n",
    "                        engine_talk('and current time is '+ time)\n",
    "\n",
    "            elif 'time and date' in command :\n",
    "                        today = date.today()                    \n",
    "                        time = datetime.datetime.now().strftime('%I:%M %p')\n",
    "                        # Textual month, day and year\n",
    "                        d2 = today.strftime(\"%B %d, %Y\")\n",
    "                        print(\"Today's Date is \", d2, 'Current time is', time)\n",
    "                        engine_talk( 'Current time is '+ time)\n",
    "                        engine_talk('and Today is : '+ d2)\n",
    "\n",
    "\n",
    "            elif 'date' in command:\n",
    "                        today = date.today()\n",
    "                        print(\"Today's date:\", today)\n",
    "                        # Textual month, day and year\n",
    "                        d2 = today.strftime(\"%B %d, %Y\")\n",
    "                        print(\"Today's Date is \", d2)\n",
    "                        engine_talk('The todays date is')\n",
    "                        engine_talk(d2)\n",
    "            elif 'joke' in command:\n",
    "                        _joke = pyjokes.get_joke()\n",
    "                        print(_joke)\n",
    "                        engine_talk(_joke)\n",
    "                            \n",
    "            elif 'search' in command :\n",
    "                        search = 'https://www.google.com/search?q='+command\n",
    "                        engine_talk('searching... ')\n",
    "                        webbrowser.open(search)\n",
    "                        \n",
    "            elif 'tell me about' in command:\n",
    "                        name = command.replace('tell me about' , '')\n",
    "                        info = wikipedia.summary(name, 1)\n",
    "                        print(info)\n",
    "                        engine_talk(info)\n",
    "\n",
    "            elif 'wikipedia' in command:\n",
    "                        name = command.replace('wikipedia' , '')\n",
    "                        info = wikipedia.summary(name, 1)\n",
    "                        print(info)\n",
    "                        engine_talk(info)\n",
    "\n",
    "            elif 'what is' in command:\n",
    "                        name = command.replace('what is ' , '')\n",
    "                        info = wikipedia.summary(name, 1)\n",
    "                        print(info)\n",
    "                        engine_talk(info)\n",
    "                        \n",
    "            elif 'who is ' in command:\n",
    "                        name = command.replace('who is' , '')\n",
    "                        info = wikipedia.summary(name, 1)\n",
    "                        print(info)\n",
    "                        engine_talk(info)\n",
    "                        \n",
    "            elif 'what is ' in command :\n",
    "                        search = 'https://www.google.com/search?q='+command\n",
    "                        print(' Here is what i found on the internet..')\n",
    "                        engine_talk('searching... Here is what i found on the internet..')\n",
    "                        webbrowser.open(search) \n",
    "            elif 'search' in command :\n",
    "                        search = 'https://www.google.com/search?q='+command\n",
    "                        engine_talk('searching... ')\n",
    "                        webbrowser.open(search)\n",
    "                    \n",
    "            elif 'open google' in command :\n",
    "                    print('opening google ...')\n",
    "                    engine_talk('opening google..')\n",
    "                    webbrowser.open_new('https://www.google.co.in/')\n",
    "                    \n",
    "            elif 'open gmail' in command :\n",
    "                    print('opening gmail ...')\n",
    "                    engine_talk('opening gmail..')\n",
    "                    webbrowser.open_new('https://mail.google.com/')\n",
    "                    \n",
    "            elif 'open youtube' in command :\n",
    "                    print('opening you tube ...')\n",
    "                    engine_talk('opening you tube..')\n",
    "                    webbrowser.open_new('https://www.youtube.com/')\n",
    "                    \n",
    "            elif 'open instagram' in command :\n",
    "                    print('opening instagram ...')\n",
    "                    engine_talk('opening insta gram...')\n",
    "                    webbrowser.open_new('https://www.instagram.com/')\n",
    "                    \n",
    "            elif 'open stack overflow' in command :\n",
    "                    print('opening stackoverflow ...')\n",
    "                    engine_talk('opening stack overflow...')\n",
    "                    webbrowser.open_new('https://stackoverflow.com/')\n",
    "            elif 'open github' in command :\n",
    "                    print('opening git hub ...')\n",
    "                    engine_talk('opening git hub...')\n",
    "                    webbrowser.open_new('https://github.com/')\n",
    "            elif 'bye' in command:\n",
    "                    print('good bye, have a nice day !!')\n",
    "                    engine_talk('good bye, have a nice day !!')\n",
    "                    sys.exit()\n",
    "                    \n",
    "            elif 'thank you' in command :\n",
    "                    print(\"your welcome\")\n",
    "                    engine_talk('your welcome')\n",
    "                    \n",
    "            elif 'stop' in command:\n",
    "                    print('good bye, have a nice day !!')\n",
    "                    engine_talk('good bye, have a nice day !!')\n",
    "                    sys.exit()\n",
    "                    \n",
    "            elif 'tata' in command:\n",
    "                    print('good bye, have a nice day !!')\n",
    "                    engine_talk('good bye, have a nice day !!')\n",
    "                    sys.exit() \n",
    "            elif 'quit' in command:\n",
    "                    print('good bye, have a nice day !!')\n",
    "                    engine_talk('good bye, have a nice day !!')\n",
    "                    sys.exit() \n",
    "            elif 'exit' in command:\n",
    "                    print('good bye, have a nice day !!')\n",
    "                    engine_talk('good bye, have a nice day !!')\n",
    "                    sys.exit()\n",
    "            else:\n",
    "                talk('Sorry I did not get your question, I can search it from google')\n",
    "                pywhatkit.search(command)\n",
    "        except Exception as ex:\n",
    "                print(ex)\n",
    "                \n",
    "print(\"hello, I am mini alexa how can I help you ??\")\n",
    "engine_talk (\"hello i am mini alexa how can i help you \")\n",
    "while True:\n",
    "        run_alexa()"
   ]
  },
  {
   "cell_type": "code",
   "execution_count": null,
   "metadata": {},
   "outputs": [],
   "source": [
    "pip install pyjokes"
   ]
  },
  {
   "cell_type": "code",
   "execution_count": null,
   "metadata": {},
   "outputs": [],
   "source": []
  }
 ],
 "metadata": {
  "kernelspec": {
   "display_name": "Python 3",
   "language": "python",
   "name": "python3"
  },
  "language_info": {
   "codemirror_mode": {
    "name": "ipython",
    "version": 3
   },
   "file_extension": ".py",
   "mimetype": "text/x-python",
   "name": "python",
   "nbconvert_exporter": "python",
   "pygments_lexer": "ipython3",
   "version": "3.8.5"
  }
 },
 "nbformat": 4,
 "nbformat_minor": 4
}
